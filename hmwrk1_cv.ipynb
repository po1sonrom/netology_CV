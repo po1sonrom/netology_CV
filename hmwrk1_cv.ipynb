{
  "nbformat": 4,
  "nbformat_minor": 0,
  "metadata": {
    "colab": {
      "name": "hmwrk1_cv.ipynb",
      "provenance": [],
      "collapsed_sections": []
    },
    "kernelspec": {
      "name": "python3",
      "display_name": "Python 3"
    },
    "accelerator": "GPU"
  },
  "cells": [
    {
      "cell_type": "markdown",
      "metadata": {
        "id": "XD6nRGNTkP8b"
      },
      "source": [
        "# Домашняя работа\n",
        "## Тема: Нейронные сети № 1"
      ]
    },
    {
      "cell_type": "markdown",
      "metadata": {
        "id": "mCvKvMpUkeBo"
      },
      "source": [
        "**1.** Возьмите датасет https://www.kaggle.com/ajayrana/hymenoptera-data.  \n",
        "**2.** Реализуйте сверточную нейронную сеть с использованием tf.keras или keras. Используйте сверточные, пуллинговые и полносвязанные слои. Обучите на train выборке в течении 10 эпох, оцените качество на отложенной выборке.  \n",
        "**3.** Добавьте в предыдущую архитектуру слои BatchNorm. Обучите на train выборке в течении 10 эпох, оцените качество на отложенной выборке.  \n",
        "**4.** Создайте модель ResNet 50 (https://www.tensorflow.org/api_docs/python/tf/keras/applications/ResNet50), инициализированную случайными весами, и обучите ее на train выборке в течении 10 эпох, оцените качество на отложенной выборке.  \n",
        "**5.** Создайте модель ResNet 50, инициализированную весами ImageNet, и обучите ее на train выборке в течении 10 эпох, оцените качество на отложенной выборке\n",
        "Результат пришлите в виде Jupyter Notebook на github’е или расшаренного Google Colab-блокнота"
      ]
    },
    {
      "cell_type": "code",
      "metadata": {
        "id": "IuMjcFqHOkT7"
      },
      "source": [
        "import tensorflow as tf\n",
        "import tensorflow.keras as keras\n",
        "import numpy as np\n",
        "import matplotlib.pyplot as plt\n",
        "from sklearn.model_selection import train_test_split\n",
        "from sklearn.preprocessing import StandardScaler"
      ],
      "execution_count": 1,
      "outputs": []
    },
    {
      "cell_type": "code",
      "metadata": {
        "colab": {
          "base_uri": "https://localhost:8080/"
        },
        "id": "tjrjyEFkfwcJ",
        "outputId": "a4ab8af6-f4ec-4072-eee9-8b631f726a3e"
      },
      "source": [
        "import os     \n",
        "from google.colab import drive \n",
        "\n",
        "drive.mount('/content/drive')"
      ],
      "execution_count": 2,
      "outputs": [
        {
          "output_type": "stream",
          "text": [
            "Mounted at /content/drive\n"
          ],
          "name": "stdout"
        }
      ]
    },
    {
      "cell_type": "code",
      "metadata": {
        "id": "Lmo7ZehJOqi5"
      },
      "source": [
        "train_generator = keras.preprocessing.image.ImageDataGenerator()\n",
        "test_generator = keras.preprocessing.image.ImageDataGenerator()"
      ],
      "execution_count": 3,
      "outputs": []
    },
    {
      "cell_type": "code",
      "metadata": {
        "colab": {
          "base_uri": "https://localhost:8080/"
        },
        "id": "LNqG7JQSgDWI",
        "outputId": "c1abd0a6-b240-46d1-ae11-5cb8b9efad60"
      },
      "source": [
        "train = train_generator.flow_from_directory('/content/drive/My Drive/Colab Notebooks/hymenoptera_data/train', \n",
        "                                            target_size=(224, 224), \n",
        "                                            batch_size=32, \n",
        "                                            class_mode='binary')\n",
        "\n",
        "test = test_generator.flow_from_directory('/content/drive/My Drive/Colab Notebooks/hymenoptera_data/val', \n",
        "                                          target_size=(224, 224), \n",
        "                                          batch_size=32, \n",
        "                                          class_mode='binary')"
      ],
      "execution_count": 4,
      "outputs": [
        {
          "output_type": "stream",
          "text": [
            "Found 244 images belonging to 2 classes.\n",
            "Found 153 images belonging to 2 classes.\n"
          ],
          "name": "stdout"
        }
      ]
    },
    {
      "cell_type": "code",
      "metadata": {
        "id": "k_H7SKjkgEEv"
      },
      "source": [
        "i = keras.layers.Input(shape=(224,224,3))\n",
        "o = keras.layers.Conv2D(16, (5,5), strides=(3,3))(i)\n",
        "o = keras.layers.MaxPool2D((2,2))(o)\n",
        "o = keras.layers.ReLU()(o)\n",
        "o = keras.layers.Conv2D(32, (3,3))(o)\n",
        "o = keras.layers.MaxPool2D((2,2))(o)\n",
        "o = keras.layers.ReLU()(o)\n",
        "o = keras.layers.Conv2D(64, (3,3), strides=(1,1))(o)\n",
        "o = keras.layers.MaxPool2D((2,2))(o)\n",
        "o = keras.layers.ReLU()(o)\n",
        "o = keras.layers.Flatten()(o)\n",
        "o = keras.layers.Dense(1, activation='sigmoid')(o)"
      ],
      "execution_count": 5,
      "outputs": []
    },
    {
      "cell_type": "code",
      "metadata": {
        "colab": {
          "base_uri": "https://localhost:8080/"
        },
        "id": "eQIuVDIlgEeD",
        "outputId": "cb0f3c86-9319-4a4a-bebf-03e8cf9da40a"
      },
      "source": [
        "model = keras.Model(inputs=i, outputs=o)\n",
        "model.compile(optimizer='adam', loss='binary_crossentropy', metrics=['accuracy'])\n",
        "model.summary()"
      ],
      "execution_count": 6,
      "outputs": [
        {
          "output_type": "stream",
          "text": [
            "Model: \"model\"\n",
            "_________________________________________________________________\n",
            "Layer (type)                 Output Shape              Param #   \n",
            "=================================================================\n",
            "input_1 (InputLayer)         [(None, 224, 224, 3)]     0         \n",
            "_________________________________________________________________\n",
            "conv2d (Conv2D)              (None, 74, 74, 16)        1216      \n",
            "_________________________________________________________________\n",
            "max_pooling2d (MaxPooling2D) (None, 37, 37, 16)        0         \n",
            "_________________________________________________________________\n",
            "re_lu (ReLU)                 (None, 37, 37, 16)        0         \n",
            "_________________________________________________________________\n",
            "conv2d_1 (Conv2D)            (None, 35, 35, 32)        4640      \n",
            "_________________________________________________________________\n",
            "max_pooling2d_1 (MaxPooling2 (None, 17, 17, 32)        0         \n",
            "_________________________________________________________________\n",
            "re_lu_1 (ReLU)               (None, 17, 17, 32)        0         \n",
            "_________________________________________________________________\n",
            "conv2d_2 (Conv2D)            (None, 15, 15, 64)        18496     \n",
            "_________________________________________________________________\n",
            "max_pooling2d_2 (MaxPooling2 (None, 7, 7, 64)          0         \n",
            "_________________________________________________________________\n",
            "re_lu_2 (ReLU)               (None, 7, 7, 64)          0         \n",
            "_________________________________________________________________\n",
            "flatten (Flatten)            (None, 3136)              0         \n",
            "_________________________________________________________________\n",
            "dense (Dense)                (None, 1)                 3137      \n",
            "=================================================================\n",
            "Total params: 27,489\n",
            "Trainable params: 27,489\n",
            "Non-trainable params: 0\n",
            "_________________________________________________________________\n"
          ],
          "name": "stdout"
        }
      ]
    },
    {
      "cell_type": "code",
      "metadata": {
        "colab": {
          "base_uri": "https://localhost:8080/"
        },
        "id": "cu9DE_OxgEtN",
        "outputId": "0d2a14cd-8063-4e13-f6a7-e632ad9abb9a"
      },
      "source": [
        "model.fit(train, epochs=10, validation_data=test)"
      ],
      "execution_count": 7,
      "outputs": [
        {
          "output_type": "stream",
          "text": [
            "Epoch 1/10\n",
            "8/8 [==============================] - 110s 14s/step - loss: 12.1626 - accuracy: 0.5063 - val_loss: 2.3553 - val_accuracy: 0.6013\n",
            "Epoch 2/10\n",
            "8/8 [==============================] - 2s 326ms/step - loss: 2.0031 - accuracy: 0.5786 - val_loss: 1.5555 - val_accuracy: 0.5425\n",
            "Epoch 3/10\n",
            "8/8 [==============================] - 2s 329ms/step - loss: 1.5223 - accuracy: 0.6007 - val_loss: 1.2340 - val_accuracy: 0.5098\n",
            "Epoch 4/10\n",
            "8/8 [==============================] - 2s 325ms/step - loss: 0.7628 - accuracy: 0.6598 - val_loss: 0.8361 - val_accuracy: 0.5621\n",
            "Epoch 5/10\n",
            "8/8 [==============================] - 2s 325ms/step - loss: 0.5017 - accuracy: 0.7466 - val_loss: 0.9073 - val_accuracy: 0.5752\n",
            "Epoch 6/10\n",
            "8/8 [==============================] - 2s 322ms/step - loss: 0.4170 - accuracy: 0.8069 - val_loss: 0.8341 - val_accuracy: 0.5490\n",
            "Epoch 7/10\n",
            "8/8 [==============================] - 2s 329ms/step - loss: 0.3342 - accuracy: 0.8423 - val_loss: 0.9136 - val_accuracy: 0.5948\n",
            "Epoch 8/10\n",
            "8/8 [==============================] - 2s 321ms/step - loss: 0.2834 - accuracy: 0.9154 - val_loss: 0.9075 - val_accuracy: 0.5425\n",
            "Epoch 9/10\n",
            "8/8 [==============================] - 2s 320ms/step - loss: 0.2115 - accuracy: 0.9513 - val_loss: 0.9963 - val_accuracy: 0.5752\n",
            "Epoch 10/10\n",
            "8/8 [==============================] - 2s 320ms/step - loss: 0.1445 - accuracy: 0.9829 - val_loss: 0.9223 - val_accuracy: 0.5948\n"
          ],
          "name": "stdout"
        },
        {
          "output_type": "execute_result",
          "data": {
            "text/plain": [
              "<tensorflow.python.keras.callbacks.History at 0x7f794fa1b6d0>"
            ]
          },
          "metadata": {
            "tags": []
          },
          "execution_count": 7
        }
      ]
    },
    {
      "cell_type": "markdown",
      "metadata": {
        "id": "Dr4bGN7Sn6Y4"
      },
      "source": [
        "После 10 эпох получается очень хорошая точность."
      ]
    },
    {
      "cell_type": "code",
      "metadata": {
        "id": "cCpPmvfCgE-x"
      },
      "source": [
        "i = keras.layers.Input(shape=(224,224,3))\n",
        "o = keras.layers.BatchNormalization()(i)\n",
        "o = keras.layers.Conv2D(16, (5,5), strides=(3,3))(o)\n",
        "o = keras.layers.MaxPool2D((2,2))(o)\n",
        "o = keras.layers.ReLU()(o)\n",
        "o = keras.layers.BatchNormalization()(o)\n",
        "o = keras.layers.Conv2D(32, (3,3))(o)\n",
        "o = keras.layers.MaxPool2D((2,2))(o)\n",
        "o = keras.layers.ReLU()(o)\n",
        "o = keras.layers.BatchNormalization()(o)\n",
        "o = keras.layers.Conv2D(64, (3,3), strides=(1,1))(o)\n",
        "o = keras.layers.MaxPool2D((2,2))(o)\n",
        "o = keras.layers.ReLU()(o)\n",
        "o = keras.layers.BatchNormalization()(o)\n",
        "o = keras.layers.Flatten()(o)\n",
        "o = keras.layers.Dense(1, activation='sigmoid')(o)"
      ],
      "execution_count": 8,
      "outputs": []
    },
    {
      "cell_type": "code",
      "metadata": {
        "colab": {
          "base_uri": "https://localhost:8080/"
        },
        "id": "sORCBB8ygFKA",
        "outputId": "ffb5a20c-d17d-4051-f786-2530facc94c2"
      },
      "source": [
        "model = keras.Model(inputs=i, outputs=o)\n",
        "model.compile(optimizer='adam', loss='binary_crossentropy', metrics=['accuracy'])\n",
        "model.summary()"
      ],
      "execution_count": 9,
      "outputs": [
        {
          "output_type": "stream",
          "text": [
            "Model: \"model_1\"\n",
            "_________________________________________________________________\n",
            "Layer (type)                 Output Shape              Param #   \n",
            "=================================================================\n",
            "input_2 (InputLayer)         [(None, 224, 224, 3)]     0         \n",
            "_________________________________________________________________\n",
            "batch_normalization (BatchNo (None, 224, 224, 3)       12        \n",
            "_________________________________________________________________\n",
            "conv2d_3 (Conv2D)            (None, 74, 74, 16)        1216      \n",
            "_________________________________________________________________\n",
            "max_pooling2d_3 (MaxPooling2 (None, 37, 37, 16)        0         \n",
            "_________________________________________________________________\n",
            "re_lu_3 (ReLU)               (None, 37, 37, 16)        0         \n",
            "_________________________________________________________________\n",
            "batch_normalization_1 (Batch (None, 37, 37, 16)        64        \n",
            "_________________________________________________________________\n",
            "conv2d_4 (Conv2D)            (None, 35, 35, 32)        4640      \n",
            "_________________________________________________________________\n",
            "max_pooling2d_4 (MaxPooling2 (None, 17, 17, 32)        0         \n",
            "_________________________________________________________________\n",
            "re_lu_4 (ReLU)               (None, 17, 17, 32)        0         \n",
            "_________________________________________________________________\n",
            "batch_normalization_2 (Batch (None, 17, 17, 32)        128       \n",
            "_________________________________________________________________\n",
            "conv2d_5 (Conv2D)            (None, 15, 15, 64)        18496     \n",
            "_________________________________________________________________\n",
            "max_pooling2d_5 (MaxPooling2 (None, 7, 7, 64)          0         \n",
            "_________________________________________________________________\n",
            "re_lu_5 (ReLU)               (None, 7, 7, 64)          0         \n",
            "_________________________________________________________________\n",
            "batch_normalization_3 (Batch (None, 7, 7, 64)          256       \n",
            "_________________________________________________________________\n",
            "flatten_1 (Flatten)          (None, 3136)              0         \n",
            "_________________________________________________________________\n",
            "dense_1 (Dense)              (None, 1)                 3137      \n",
            "=================================================================\n",
            "Total params: 27,949\n",
            "Trainable params: 27,719\n",
            "Non-trainable params: 230\n",
            "_________________________________________________________________\n"
          ],
          "name": "stdout"
        }
      ]
    },
    {
      "cell_type": "code",
      "metadata": {
        "colab": {
          "base_uri": "https://localhost:8080/"
        },
        "id": "Xc54JRboho71",
        "outputId": "36123f34-8306-4669-db7d-19e2bbec4a81"
      },
      "source": [
        "model.fit(train, epochs=10, validation_data=test)"
      ],
      "execution_count": 10,
      "outputs": [
        {
          "output_type": "stream",
          "text": [
            "Epoch 1/10\n",
            "8/8 [==============================] - 3s 365ms/step - loss: 0.7567 - accuracy: 0.5722 - val_loss: 0.7464 - val_accuracy: 0.5490\n",
            "Epoch 2/10\n",
            "8/8 [==============================] - 3s 344ms/step - loss: 0.3921 - accuracy: 0.8453 - val_loss: 0.8411 - val_accuracy: 0.5752\n",
            "Epoch 3/10\n",
            "8/8 [==============================] - 3s 345ms/step - loss: 0.1915 - accuracy: 0.9330 - val_loss: 0.8510 - val_accuracy: 0.5817\n",
            "Epoch 4/10\n",
            "8/8 [==============================] - 3s 331ms/step - loss: 0.1085 - accuracy: 0.9846 - val_loss: 0.7040 - val_accuracy: 0.5686\n",
            "Epoch 5/10\n",
            "8/8 [==============================] - 2s 327ms/step - loss: 0.0772 - accuracy: 1.0000 - val_loss: 0.6531 - val_accuracy: 0.6209\n",
            "Epoch 6/10\n",
            "8/8 [==============================] - 3s 332ms/step - loss: 0.0459 - accuracy: 0.9972 - val_loss: 0.6462 - val_accuracy: 0.6405\n",
            "Epoch 7/10\n",
            "8/8 [==============================] - 2s 328ms/step - loss: 0.0361 - accuracy: 1.0000 - val_loss: 0.6535 - val_accuracy: 0.5882\n",
            "Epoch 8/10\n",
            "8/8 [==============================] - 2s 325ms/step - loss: 0.0261 - accuracy: 1.0000 - val_loss: 0.6655 - val_accuracy: 0.5752\n",
            "Epoch 9/10\n",
            "8/8 [==============================] - 2s 329ms/step - loss: 0.0212 - accuracy: 1.0000 - val_loss: 0.6618 - val_accuracy: 0.5882\n",
            "Epoch 10/10\n",
            "8/8 [==============================] - 2s 326ms/step - loss: 0.0178 - accuracy: 1.0000 - val_loss: 0.6735 - val_accuracy: 0.6013\n"
          ],
          "name": "stdout"
        },
        {
          "output_type": "execute_result",
          "data": {
            "text/plain": [
              "<tensorflow.python.keras.callbacks.History at 0x7f78ee5b62d0>"
            ]
          },
          "metadata": {
            "tags": []
          },
          "execution_count": 10
        }
      ]
    },
    {
      "cell_type": "markdown",
      "metadata": {
        "id": "YrKfyYSQoJ_h"
      },
      "source": [
        "Благодаря BatchNorm получаем отличную точность уже после пятой эпохи."
      ]
    },
    {
      "cell_type": "code",
      "metadata": {
        "colab": {
          "base_uri": "https://localhost:8080/"
        },
        "id": "iGhisXHehrar",
        "outputId": "0c607df1-dd6a-4494-cbc0-5f688dddfa1a"
      },
      "source": [
        "train_generator = keras.preprocessing.image.ImageDataGenerator()\n",
        "test_generator  = keras.preprocessing.image.ImageDataGenerator()\n",
        "\n",
        "train = train_generator.flow_from_directory('/content/drive/My Drive/Colab Notebooks/hymenoptera_data/train', \n",
        "                                            target_size= (224, 224), \n",
        "                                            batch_size = 32, \n",
        "                                            class_mode ='binary')\n",
        "\n",
        "test  = test_generator.flow_from_directory('/content/drive/My Drive/Colab Notebooks/hymenoptera_data/val', \n",
        "                                           target_size = (224, 224), \n",
        "                                           batch_size  = 32, \n",
        "                                           class_mode  ='binary')"
      ],
      "execution_count": 11,
      "outputs": [
        {
          "output_type": "stream",
          "text": [
            "Found 244 images belonging to 2 classes.\n",
            "Found 153 images belonging to 2 classes.\n"
          ],
          "name": "stdout"
        }
      ]
    },
    {
      "cell_type": "code",
      "metadata": {
        "id": "XZ-VvkaGh7Hm"
      },
      "source": [
        "ResNet50 = keras.applications.ResNet50(\n",
        "    include_top=False, weights=None, input_tensor=None, input_shape=None,\n",
        "    pooling=None, classes=1000\n",
        ")"
      ],
      "execution_count": 12,
      "outputs": []
    },
    {
      "cell_type": "code",
      "metadata": {
        "id": "K53FUZA2iBi1"
      },
      "source": [
        "i = keras.layers.Input((224, 224, 3), dtype = tf.uint8)\n",
        "o = tf.cast(i, tf.float32)\n",
        "o = ResNet50(o)\n",
        "o = keras.layers.Flatten()(o)\n",
        "o = keras.layers.Dense(1, activation='sigmoid')(o)"
      ],
      "execution_count": 13,
      "outputs": []
    },
    {
      "cell_type": "code",
      "metadata": {
        "colab": {
          "base_uri": "https://localhost:8080/"
        },
        "id": "oBN19xQEiDpc",
        "outputId": "2c63b30c-80f7-4289-e60a-bcef070655fb"
      },
      "source": [
        "model = keras.Model(inputs=i, outputs=o)\n",
        "model.compile(optimizer='adam', loss='binary_crossentropy', metrics=['accuracy'])\n",
        "model.summary()"
      ],
      "execution_count": 14,
      "outputs": [
        {
          "output_type": "stream",
          "text": [
            "Model: \"model_2\"\n",
            "_________________________________________________________________\n",
            "Layer (type)                 Output Shape              Param #   \n",
            "=================================================================\n",
            "input_4 (InputLayer)         [(None, 224, 224, 3)]     0         \n",
            "_________________________________________________________________\n",
            "tf.cast (TFOpLambda)         (None, 224, 224, 3)       0         \n",
            "_________________________________________________________________\n",
            "resnet50 (Functional)        (None, None, None, 2048)  23587712  \n",
            "_________________________________________________________________\n",
            "flatten_2 (Flatten)          (None, 100352)            0         \n",
            "_________________________________________________________________\n",
            "dense_2 (Dense)              (None, 1)                 100353    \n",
            "=================================================================\n",
            "Total params: 23,688,065\n",
            "Trainable params: 23,634,945\n",
            "Non-trainable params: 53,120\n",
            "_________________________________________________________________\n"
          ],
          "name": "stdout"
        }
      ]
    },
    {
      "cell_type": "code",
      "metadata": {
        "colab": {
          "base_uri": "https://localhost:8080/"
        },
        "id": "AEaEjQ-5iIDr",
        "outputId": "f2378bfa-9c9f-4234-f8c5-2229adccd3ac"
      },
      "source": [
        "model.fit(train, epochs=10, validation_data=test)"
      ],
      "execution_count": 15,
      "outputs": [
        {
          "output_type": "stream",
          "text": [
            "Epoch 1/10\n",
            "8/8 [==============================] - 11s 792ms/step - loss: 7.4834 - accuracy: 0.4434 - val_loss: 1198132.6250 - val_accuracy: 0.5425\n",
            "Epoch 2/10\n",
            "8/8 [==============================] - 4s 487ms/step - loss: 3.0826 - accuracy: 0.6292 - val_loss: 4635500.0000 - val_accuracy: 0.5425\n",
            "Epoch 3/10\n",
            "8/8 [==============================] - 4s 486ms/step - loss: 2.8734 - accuracy: 0.5826 - val_loss: 716831.8125 - val_accuracy: 0.5752\n",
            "Epoch 4/10\n",
            "8/8 [==============================] - 4s 487ms/step - loss: 3.5554 - accuracy: 0.5562 - val_loss: 4680102.0000 - val_accuracy: 0.5425\n",
            "Epoch 5/10\n",
            "8/8 [==============================] - 4s 482ms/step - loss: 3.2357 - accuracy: 0.6247 - val_loss: 1293334.7500 - val_accuracy: 0.5425\n",
            "Epoch 6/10\n",
            "8/8 [==============================] - 4s 489ms/step - loss: 1.3557 - accuracy: 0.5221 - val_loss: 705749.3750 - val_accuracy: 0.5425\n",
            "Epoch 7/10\n",
            "8/8 [==============================] - 4s 487ms/step - loss: 1.1596 - accuracy: 0.5703 - val_loss: 344633.0938 - val_accuracy: 0.5425\n",
            "Epoch 8/10\n",
            "8/8 [==============================] - 4s 486ms/step - loss: 1.5175 - accuracy: 0.5108 - val_loss: 59640.9141 - val_accuracy: 0.5490\n",
            "Epoch 9/10\n",
            "8/8 [==============================] - 4s 507ms/step - loss: 1.3585 - accuracy: 0.6184 - val_loss: 19313.5762 - val_accuracy: 0.5621\n",
            "Epoch 10/10\n",
            "8/8 [==============================] - 4s 494ms/step - loss: 0.9184 - accuracy: 0.7073 - val_loss: 10066.3301 - val_accuracy: 0.5556\n"
          ],
          "name": "stdout"
        },
        {
          "output_type": "execute_result",
          "data": {
            "text/plain": [
              "<tensorflow.python.keras.callbacks.History at 0x7f78ef170550>"
            ]
          },
          "metadata": {
            "tags": []
          },
          "execution_count": 15
        }
      ]
    },
    {
      "cell_type": "markdown",
      "metadata": {
        "id": "eG3AoCwhpBuQ"
      },
      "source": [
        "Модель ResNet без предобученных весов ведет себя достаточно странно. Максимум точности составил 0.7073, но точность произвольно \"гуляет\" все время. Вывод: без предобученных весов модель себя плохо показывает."
      ]
    },
    {
      "cell_type": "code",
      "metadata": {
        "id": "pQW9BHjeiNZm",
        "colab": {
          "base_uri": "https://localhost:8080/"
        },
        "outputId": "05d25f16-ea2b-4385-8960-1fb2936bb88a"
      },
      "source": [
        "ResNet50 = keras.applications.ResNet50(\n",
        "    include_top=False, weights='imagenet', input_tensor=None, input_shape=None,\n",
        "    pooling=None, classes=1000 #, **kwargs\n",
        ")"
      ],
      "execution_count": 16,
      "outputs": [
        {
          "output_type": "stream",
          "text": [
            "Downloading data from https://storage.googleapis.com/tensorflow/keras-applications/resnet/resnet50_weights_tf_dim_ordering_tf_kernels_notop.h5\n",
            "94773248/94765736 [==============================] - 1s 0us/step\n"
          ],
          "name": "stdout"
        }
      ]
    },
    {
      "cell_type": "code",
      "metadata": {
        "id": "P7zG89O5iN0I"
      },
      "source": [
        "i = keras.layers.Input((224, 224, 3), dtype = tf.uint8)\n",
        "o = tf.cast(i, tf.float32)\n",
        "o = ResNet50(o)\n",
        "o = keras.layers.Flatten()(o)\n",
        "o = keras.layers.Dense(1, activation='sigmoid')(o)"
      ],
      "execution_count": 17,
      "outputs": []
    },
    {
      "cell_type": "code",
      "metadata": {
        "id": "KJQ_ptSxiN8_"
      },
      "source": [
        "ResNet50.trainable = False"
      ],
      "execution_count": 18,
      "outputs": []
    },
    {
      "cell_type": "code",
      "metadata": {
        "colab": {
          "base_uri": "https://localhost:8080/"
        },
        "id": "W-MV12ekiVKP",
        "outputId": "c6800fc1-8053-4eff-863a-fa0e78005aa2"
      },
      "source": [
        "model = keras.Model(inputs=i, outputs=o)\n",
        "model.compile(optimizer='adam', loss='binary_crossentropy', metrics=['accuracy'])\n",
        "model.summary()"
      ],
      "execution_count": 19,
      "outputs": [
        {
          "output_type": "stream",
          "text": [
            "Model: \"model_3\"\n",
            "_________________________________________________________________\n",
            "Layer (type)                 Output Shape              Param #   \n",
            "=================================================================\n",
            "input_6 (InputLayer)         [(None, 224, 224, 3)]     0         \n",
            "_________________________________________________________________\n",
            "tf.cast_1 (TFOpLambda)       (None, 224, 224, 3)       0         \n",
            "_________________________________________________________________\n",
            "resnet50 (Functional)        (None, None, None, 2048)  23587712  \n",
            "_________________________________________________________________\n",
            "flatten_3 (Flatten)          (None, 100352)            0         \n",
            "_________________________________________________________________\n",
            "dense_3 (Dense)              (None, 1)                 100353    \n",
            "=================================================================\n",
            "Total params: 23,688,065\n",
            "Trainable params: 100,353\n",
            "Non-trainable params: 23,587,712\n",
            "_________________________________________________________________\n"
          ],
          "name": "stdout"
        }
      ]
    },
    {
      "cell_type": "code",
      "metadata": {
        "colab": {
          "base_uri": "https://localhost:8080/"
        },
        "id": "VrZ6pObAiVT9",
        "outputId": "71b3bb19-e24d-43b8-fc00-c8a2668f1ef7"
      },
      "source": [
        "model.fit(train, epochs=10, validation_data=test)"
      ],
      "execution_count": 20,
      "outputs": [
        {
          "output_type": "stream",
          "text": [
            "Epoch 1/10\n",
            "8/8 [==============================] - 6s 500ms/step - loss: 8.8060 - accuracy: 0.5168 - val_loss: 1.1769 - val_accuracy: 0.8562\n",
            "Epoch 2/10\n",
            "8/8 [==============================] - 3s 377ms/step - loss: 1.2112 - accuracy: 0.9030 - val_loss: 1.4503 - val_accuracy: 0.8693\n",
            "Epoch 3/10\n",
            "8/8 [==============================] - 3s 374ms/step - loss: 0.4315 - accuracy: 0.9671 - val_loss: 1.8362 - val_accuracy: 0.8693\n",
            "Epoch 4/10\n",
            "8/8 [==============================] - 3s 391ms/step - loss: 0.0497 - accuracy: 0.9871 - val_loss: 1.9840 - val_accuracy: 0.8693\n",
            "Epoch 5/10\n",
            "8/8 [==============================] - 3s 399ms/step - loss: 1.8936e-04 - accuracy: 1.0000 - val_loss: 3.0698 - val_accuracy: 0.8301\n",
            "Epoch 6/10\n",
            "8/8 [==============================] - 3s 394ms/step - loss: 0.0023 - accuracy: 1.0000 - val_loss: 3.4923 - val_accuracy: 0.8170\n",
            "Epoch 7/10\n",
            "8/8 [==============================] - 3s 385ms/step - loss: 6.8448e-04 - accuracy: 1.0000 - val_loss: 3.2821 - val_accuracy: 0.8235\n",
            "Epoch 8/10\n",
            "8/8 [==============================] - 3s 370ms/step - loss: 2.0669e-05 - accuracy: 1.0000 - val_loss: 3.1686 - val_accuracy: 0.8366\n",
            "Epoch 9/10\n",
            "8/8 [==============================] - 3s 374ms/step - loss: 1.9290e-05 - accuracy: 1.0000 - val_loss: 3.1112 - val_accuracy: 0.8366\n",
            "Epoch 10/10\n",
            "8/8 [==============================] - 3s 373ms/step - loss: 1.9343e-05 - accuracy: 1.0000 - val_loss: 3.0819 - val_accuracy: 0.8366\n"
          ],
          "name": "stdout"
        },
        {
          "output_type": "execute_result",
          "data": {
            "text/plain": [
              "<tensorflow.python.keras.callbacks.History at 0x7f78b60429d0>"
            ]
          },
          "metadata": {
            "tags": []
          },
          "execution_count": 20
        }
      ]
    },
    {
      "cell_type": "markdown",
      "metadata": {
        "id": "4wBXbbpeppkS"
      },
      "source": [
        "С предобученными весами точность стала идеальной после пятой эпохи и лосс ведет себя гораздо лучше."
      ]
    }
  ]
}